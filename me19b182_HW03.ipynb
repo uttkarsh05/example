{
 "cells": [
  {
   "cell_type": "markdown",
   "id": "81b997ad",
   "metadata": {},
   "source": [
    "# ID5030 Assignment-3"
   ]
  },
  {
   "cell_type": "markdown",
   "id": "f62d62e4",
   "metadata": {},
   "source": [
    "### Name : Uttkarsh Jain \n",
    "### Roll no : ME19B182"
   ]
  },
  {
   "cell_type": "markdown",
   "id": "7601485d",
   "metadata": {},
   "source": [
    "# Importing required libraries"
   ]
  },
  {
   "cell_type": "code",
   "execution_count": 269,
   "id": "f2b2ea0f",
   "metadata": {},
   "outputs": [],
   "source": [
    "import pandas as pd\n",
    "import numpy as np\n",
    "import matplotlib.pyplot as plt\n",
    "from sklearn.model_selection import train_test_split\n",
    "from sklearn.linear_model import LinearRegression\n",
    "from sklearn.metrics import r2_score,mean_squared_error\n",
    "import torch"
   ]
  },
  {
   "cell_type": "markdown",
   "id": "bfc2e0bd",
   "metadata": {},
   "source": [
    "# Reading Dataset "
   ]
  },
  {
   "cell_type": "code",
   "execution_count": 270,
   "id": "5d819994",
   "metadata": {},
   "outputs": [],
   "source": [
    "#Reading the dataset \n",
    "df = pd.read_excel('Concrete_Data.xls')"
   ]
  },
  {
   "cell_type": "code",
   "execution_count": 271,
   "id": "d03da163",
   "metadata": {},
   "outputs": [
    {
     "data": {
      "text/html": [
       "<div>\n",
       "<style scoped>\n",
       "    .dataframe tbody tr th:only-of-type {\n",
       "        vertical-align: middle;\n",
       "    }\n",
       "\n",
       "    .dataframe tbody tr th {\n",
       "        vertical-align: top;\n",
       "    }\n",
       "\n",
       "    .dataframe thead th {\n",
       "        text-align: right;\n",
       "    }\n",
       "</style>\n",
       "<table border=\"1\" class=\"dataframe\">\n",
       "  <thead>\n",
       "    <tr style=\"text-align: right;\">\n",
       "      <th></th>\n",
       "      <th>Cement (component 1)(kg in a m^3 mixture)</th>\n",
       "      <th>Blast Furnace Slag (component 2)(kg in a m^3 mixture)</th>\n",
       "      <th>Fly Ash (component 3)(kg in a m^3 mixture)</th>\n",
       "      <th>Water  (component 4)(kg in a m^3 mixture)</th>\n",
       "      <th>Superplasticizer (component 5)(kg in a m^3 mixture)</th>\n",
       "      <th>Coarse Aggregate  (component 6)(kg in a m^3 mixture)</th>\n",
       "      <th>Fine Aggregate (component 7)(kg in a m^3 mixture)</th>\n",
       "      <th>Age (day)</th>\n",
       "      <th>Concrete compressive strength(MPa, megapascals)</th>\n",
       "    </tr>\n",
       "  </thead>\n",
       "  <tbody>\n",
       "    <tr>\n",
       "      <th>0</th>\n",
       "      <td>540.0</td>\n",
       "      <td>0.0</td>\n",
       "      <td>0.0</td>\n",
       "      <td>162.0</td>\n",
       "      <td>2.5</td>\n",
       "      <td>1040.0</td>\n",
       "      <td>676.0</td>\n",
       "      <td>28</td>\n",
       "      <td>79.986111</td>\n",
       "    </tr>\n",
       "    <tr>\n",
       "      <th>1</th>\n",
       "      <td>540.0</td>\n",
       "      <td>0.0</td>\n",
       "      <td>0.0</td>\n",
       "      <td>162.0</td>\n",
       "      <td>2.5</td>\n",
       "      <td>1055.0</td>\n",
       "      <td>676.0</td>\n",
       "      <td>28</td>\n",
       "      <td>61.887366</td>\n",
       "    </tr>\n",
       "    <tr>\n",
       "      <th>2</th>\n",
       "      <td>332.5</td>\n",
       "      <td>142.5</td>\n",
       "      <td>0.0</td>\n",
       "      <td>228.0</td>\n",
       "      <td>0.0</td>\n",
       "      <td>932.0</td>\n",
       "      <td>594.0</td>\n",
       "      <td>270</td>\n",
       "      <td>40.269535</td>\n",
       "    </tr>\n",
       "    <tr>\n",
       "      <th>3</th>\n",
       "      <td>332.5</td>\n",
       "      <td>142.5</td>\n",
       "      <td>0.0</td>\n",
       "      <td>228.0</td>\n",
       "      <td>0.0</td>\n",
       "      <td>932.0</td>\n",
       "      <td>594.0</td>\n",
       "      <td>365</td>\n",
       "      <td>41.052780</td>\n",
       "    </tr>\n",
       "    <tr>\n",
       "      <th>4</th>\n",
       "      <td>198.6</td>\n",
       "      <td>132.4</td>\n",
       "      <td>0.0</td>\n",
       "      <td>192.0</td>\n",
       "      <td>0.0</td>\n",
       "      <td>978.4</td>\n",
       "      <td>825.5</td>\n",
       "      <td>360</td>\n",
       "      <td>44.296075</td>\n",
       "    </tr>\n",
       "  </tbody>\n",
       "</table>\n",
       "</div>"
      ],
      "text/plain": [
       "   Cement (component 1)(kg in a m^3 mixture)  \\\n",
       "0                                      540.0   \n",
       "1                                      540.0   \n",
       "2                                      332.5   \n",
       "3                                      332.5   \n",
       "4                                      198.6   \n",
       "\n",
       "   Blast Furnace Slag (component 2)(kg in a m^3 mixture)  \\\n",
       "0                                                0.0       \n",
       "1                                                0.0       \n",
       "2                                              142.5       \n",
       "3                                              142.5       \n",
       "4                                              132.4       \n",
       "\n",
       "   Fly Ash (component 3)(kg in a m^3 mixture)  \\\n",
       "0                                         0.0   \n",
       "1                                         0.0   \n",
       "2                                         0.0   \n",
       "3                                         0.0   \n",
       "4                                         0.0   \n",
       "\n",
       "   Water  (component 4)(kg in a m^3 mixture)  \\\n",
       "0                                      162.0   \n",
       "1                                      162.0   \n",
       "2                                      228.0   \n",
       "3                                      228.0   \n",
       "4                                      192.0   \n",
       "\n",
       "   Superplasticizer (component 5)(kg in a m^3 mixture)  \\\n",
       "0                                                2.5     \n",
       "1                                                2.5     \n",
       "2                                                0.0     \n",
       "3                                                0.0     \n",
       "4                                                0.0     \n",
       "\n",
       "   Coarse Aggregate  (component 6)(kg in a m^3 mixture)  \\\n",
       "0                                             1040.0      \n",
       "1                                             1055.0      \n",
       "2                                              932.0      \n",
       "3                                              932.0      \n",
       "4                                              978.4      \n",
       "\n",
       "   Fine Aggregate (component 7)(kg in a m^3 mixture)  Age (day)  \\\n",
       "0                                              676.0         28   \n",
       "1                                              676.0         28   \n",
       "2                                              594.0        270   \n",
       "3                                              594.0        365   \n",
       "4                                              825.5        360   \n",
       "\n",
       "   Concrete compressive strength(MPa, megapascals)   \n",
       "0                                         79.986111  \n",
       "1                                         61.887366  \n",
       "2                                         40.269535  \n",
       "3                                         41.052780  \n",
       "4                                         44.296075  "
      ]
     },
     "execution_count": 271,
     "metadata": {},
     "output_type": "execute_result"
    }
   ],
   "source": [
    "#head function shows the first five columns of the dataframe\n",
    "df.head()"
   ]
  },
  {
   "cell_type": "code",
   "execution_count": 272,
   "id": "c279783a",
   "metadata": {},
   "outputs": [
    {
     "data": {
      "text/plain": [
       "(1030, 9)"
      ]
     },
     "execution_count": 272,
     "metadata": {},
     "output_type": "execute_result"
    }
   ],
   "source": [
    "#Finding no of data points in the dataframe\n",
    "df.shape"
   ]
  },
  {
   "cell_type": "code",
   "execution_count": 273,
   "id": "1d55edcd",
   "metadata": {},
   "outputs": [
    {
     "data": {
      "text/plain": [
       "Index(['Cement (component 1)(kg in a m^3 mixture)',\n",
       "       'Blast Furnace Slag (component 2)(kg in a m^3 mixture)',\n",
       "       'Fly Ash (component 3)(kg in a m^3 mixture)',\n",
       "       'Water  (component 4)(kg in a m^3 mixture)',\n",
       "       'Superplasticizer (component 5)(kg in a m^3 mixture)',\n",
       "       'Coarse Aggregate  (component 6)(kg in a m^3 mixture)',\n",
       "       'Fine Aggregate (component 7)(kg in a m^3 mixture)', 'Age (day)',\n",
       "       'Concrete compressive strength(MPa, megapascals) '],\n",
       "      dtype='object')"
      ]
     },
     "execution_count": 273,
     "metadata": {},
     "output_type": "execute_result"
    }
   ],
   "source": [
    "#getting the actual values of columns\n",
    "df.columns "
   ]
  },
  {
   "cell_type": "markdown",
   "id": "51a9b194",
   "metadata": {},
   "source": [
    "# Creating and splitting dataset into training and testing sets "
   ]
  },
  {
   "cell_type": "code",
   "execution_count": 274,
   "id": "1a565824",
   "metadata": {},
   "outputs": [],
   "source": [
    "#creating X data matrix and y as our target variable \n",
    "X = df.drop('Concrete compressive strength(MPa, megapascals) ',axis = 1)\n",
    "y = df['Concrete compressive strength(MPa, megapascals) ']"
   ]
  },
  {
   "cell_type": "code",
   "execution_count": 275,
   "id": "ff6f54fa",
   "metadata": {},
   "outputs": [],
   "source": [
    "X_train,X_test,y_train,y_test = train_test_split(X,y,test_size=0.3,random_state=42)"
   ]
  },
  {
   "cell_type": "code",
   "execution_count": 276,
   "id": "6e4eb918",
   "metadata": {},
   "outputs": [
    {
     "data": {
      "text/plain": [
       "((721, 8), (721,))"
      ]
     },
     "execution_count": 276,
     "metadata": {},
     "output_type": "execute_result"
    }
   ],
   "source": [
    "#verifying if the split is correct\n",
    "X_train.shape,y_train.shape"
   ]
  },
  {
   "cell_type": "markdown",
   "id": "1fcc5a60",
   "metadata": {},
   "source": [
    "## Normalizing the dataset"
   ]
  },
  {
   "cell_type": "code",
   "execution_count": 277,
   "id": "1f82f663",
   "metadata": {},
   "outputs": [],
   "source": [
    "X_train_norm = (X_train - np.mean(X_train,axis = 0))/np.std(X_train,axis = 0)\n",
    "X_test_norm = (X_test - np.mean(X_train,axis = 0))/np.std(X_train,axis = 0)"
   ]
  },
  {
   "cell_type": "code",
   "execution_count": 278,
   "id": "d9aa9dee",
   "metadata": {},
   "outputs": [
    {
     "data": {
      "text/html": [
       "<div>\n",
       "<style scoped>\n",
       "    .dataframe tbody tr th:only-of-type {\n",
       "        vertical-align: middle;\n",
       "    }\n",
       "\n",
       "    .dataframe tbody tr th {\n",
       "        vertical-align: top;\n",
       "    }\n",
       "\n",
       "    .dataframe thead th {\n",
       "        text-align: right;\n",
       "    }\n",
       "</style>\n",
       "<table border=\"1\" class=\"dataframe\">\n",
       "  <thead>\n",
       "    <tr style=\"text-align: right;\">\n",
       "      <th></th>\n",
       "      <th>Cement (component 1)(kg in a m^3 mixture)</th>\n",
       "      <th>Blast Furnace Slag (component 2)(kg in a m^3 mixture)</th>\n",
       "      <th>Fly Ash (component 3)(kg in a m^3 mixture)</th>\n",
       "      <th>Water  (component 4)(kg in a m^3 mixture)</th>\n",
       "      <th>Superplasticizer (component 5)(kg in a m^3 mixture)</th>\n",
       "      <th>Coarse Aggregate  (component 6)(kg in a m^3 mixture)</th>\n",
       "      <th>Fine Aggregate (component 7)(kg in a m^3 mixture)</th>\n",
       "      <th>Age (day)</th>\n",
       "    </tr>\n",
       "  </thead>\n",
       "  <tbody>\n",
       "    <tr>\n",
       "      <th>196</th>\n",
       "      <td>194.68</td>\n",
       "      <td>0.0</td>\n",
       "      <td>100.52</td>\n",
       "      <td>165.62</td>\n",
       "      <td>7.48</td>\n",
       "      <td>1006.4</td>\n",
       "      <td>905.9</td>\n",
       "      <td>28</td>\n",
       "    </tr>\n",
       "    <tr>\n",
       "      <th>631</th>\n",
       "      <td>325.00</td>\n",
       "      <td>0.0</td>\n",
       "      <td>0.00</td>\n",
       "      <td>184.00</td>\n",
       "      <td>0.00</td>\n",
       "      <td>1063.0</td>\n",
       "      <td>783.0</td>\n",
       "      <td>7</td>\n",
       "    </tr>\n",
       "    <tr>\n",
       "      <th>81</th>\n",
       "      <td>318.80</td>\n",
       "      <td>212.5</td>\n",
       "      <td>0.00</td>\n",
       "      <td>155.70</td>\n",
       "      <td>14.30</td>\n",
       "      <td>852.1</td>\n",
       "      <td>880.4</td>\n",
       "      <td>3</td>\n",
       "    </tr>\n",
       "    <tr>\n",
       "      <th>526</th>\n",
       "      <td>359.00</td>\n",
       "      <td>19.0</td>\n",
       "      <td>141.00</td>\n",
       "      <td>154.00</td>\n",
       "      <td>10.91</td>\n",
       "      <td>942.0</td>\n",
       "      <td>801.0</td>\n",
       "      <td>3</td>\n",
       "    </tr>\n",
       "    <tr>\n",
       "      <th>830</th>\n",
       "      <td>162.00</td>\n",
       "      <td>190.0</td>\n",
       "      <td>148.00</td>\n",
       "      <td>179.00</td>\n",
       "      <td>19.00</td>\n",
       "      <td>838.0</td>\n",
       "      <td>741.0</td>\n",
       "      <td>28</td>\n",
       "    </tr>\n",
       "  </tbody>\n",
       "</table>\n",
       "</div>"
      ],
      "text/plain": [
       "     Cement (component 1)(kg in a m^3 mixture)  \\\n",
       "196                                     194.68   \n",
       "631                                     325.00   \n",
       "81                                      318.80   \n",
       "526                                     359.00   \n",
       "830                                     162.00   \n",
       "\n",
       "     Blast Furnace Slag (component 2)(kg in a m^3 mixture)  \\\n",
       "196                                                0.0       \n",
       "631                                                0.0       \n",
       "81                                               212.5       \n",
       "526                                               19.0       \n",
       "830                                              190.0       \n",
       "\n",
       "     Fly Ash (component 3)(kg in a m^3 mixture)  \\\n",
       "196                                      100.52   \n",
       "631                                        0.00   \n",
       "81                                         0.00   \n",
       "526                                      141.00   \n",
       "830                                      148.00   \n",
       "\n",
       "     Water  (component 4)(kg in a m^3 mixture)  \\\n",
       "196                                     165.62   \n",
       "631                                     184.00   \n",
       "81                                      155.70   \n",
       "526                                     154.00   \n",
       "830                                     179.00   \n",
       "\n",
       "     Superplasticizer (component 5)(kg in a m^3 mixture)  \\\n",
       "196                                               7.48     \n",
       "631                                               0.00     \n",
       "81                                               14.30     \n",
       "526                                              10.91     \n",
       "830                                              19.00     \n",
       "\n",
       "     Coarse Aggregate  (component 6)(kg in a m^3 mixture)  \\\n",
       "196                                             1006.4      \n",
       "631                                             1063.0      \n",
       "81                                               852.1      \n",
       "526                                              942.0      \n",
       "830                                              838.0      \n",
       "\n",
       "     Fine Aggregate (component 7)(kg in a m^3 mixture)  Age (day)  \n",
       "196                                              905.9         28  \n",
       "631                                              783.0          7  \n",
       "81                                               880.4          3  \n",
       "526                                              801.0          3  \n",
       "830                                              741.0         28  "
      ]
     },
     "execution_count": 278,
     "metadata": {},
     "output_type": "execute_result"
    }
   ],
   "source": [
    "X_train.head()"
   ]
  },
  {
   "cell_type": "code",
   "execution_count": 279,
   "id": "f21b77f7",
   "metadata": {},
   "outputs": [
    {
     "data": {
      "text/html": [
       "<div>\n",
       "<style scoped>\n",
       "    .dataframe tbody tr th:only-of-type {\n",
       "        vertical-align: middle;\n",
       "    }\n",
       "\n",
       "    .dataframe tbody tr th {\n",
       "        vertical-align: top;\n",
       "    }\n",
       "\n",
       "    .dataframe thead th {\n",
       "        text-align: right;\n",
       "    }\n",
       "</style>\n",
       "<table border=\"1\" class=\"dataframe\">\n",
       "  <thead>\n",
       "    <tr style=\"text-align: right;\">\n",
       "      <th></th>\n",
       "      <th>Cement (component 1)(kg in a m^3 mixture)</th>\n",
       "      <th>Blast Furnace Slag (component 2)(kg in a m^3 mixture)</th>\n",
       "      <th>Fly Ash (component 3)(kg in a m^3 mixture)</th>\n",
       "      <th>Water  (component 4)(kg in a m^3 mixture)</th>\n",
       "      <th>Superplasticizer (component 5)(kg in a m^3 mixture)</th>\n",
       "      <th>Coarse Aggregate  (component 6)(kg in a m^3 mixture)</th>\n",
       "      <th>Fine Aggregate (component 7)(kg in a m^3 mixture)</th>\n",
       "      <th>Age (day)</th>\n",
       "    </tr>\n",
       "  </thead>\n",
       "  <tbody>\n",
       "    <tr>\n",
       "      <th>196</th>\n",
       "      <td>-0.828635</td>\n",
       "      <td>-0.855292</td>\n",
       "      <td>0.762033</td>\n",
       "      <td>-0.765446</td>\n",
       "      <td>0.224201</td>\n",
       "      <td>0.415550</td>\n",
       "      <td>1.676831</td>\n",
       "      <td>-0.292980</td>\n",
       "    </tr>\n",
       "    <tr>\n",
       "      <th>631</th>\n",
       "      <td>0.374843</td>\n",
       "      <td>-0.855292</td>\n",
       "      <td>-0.816902</td>\n",
       "      <td>0.103778</td>\n",
       "      <td>-1.013764</td>\n",
       "      <td>1.136985</td>\n",
       "      <td>0.141922</td>\n",
       "      <td>-0.633845</td>\n",
       "    </tr>\n",
       "    <tr>\n",
       "      <th>81</th>\n",
       "      <td>0.317587</td>\n",
       "      <td>1.568944</td>\n",
       "      <td>-0.816902</td>\n",
       "      <td>-1.234582</td>\n",
       "      <td>1.352934</td>\n",
       "      <td>-1.551189</td>\n",
       "      <td>1.358359</td>\n",
       "      <td>-0.698772</td>\n",
       "    </tr>\n",
       "    <tr>\n",
       "      <th>526</th>\n",
       "      <td>0.688826</td>\n",
       "      <td>-0.638537</td>\n",
       "      <td>1.397879</td>\n",
       "      <td>-1.314978</td>\n",
       "      <td>0.791878</td>\n",
       "      <td>-0.405305</td>\n",
       "      <td>0.366726</td>\n",
       "      <td>-0.698772</td>\n",
       "    </tr>\n",
       "    <tr>\n",
       "      <th>830</th>\n",
       "      <td>-1.130428</td>\n",
       "      <td>1.312260</td>\n",
       "      <td>1.507833</td>\n",
       "      <td>-0.132681</td>\n",
       "      <td>2.130800</td>\n",
       "      <td>-1.730910</td>\n",
       "      <td>-0.382619</td>\n",
       "      <td>-0.292980</td>\n",
       "    </tr>\n",
       "  </tbody>\n",
       "</table>\n",
       "</div>"
      ],
      "text/plain": [
       "     Cement (component 1)(kg in a m^3 mixture)  \\\n",
       "196                                  -0.828635   \n",
       "631                                   0.374843   \n",
       "81                                    0.317587   \n",
       "526                                   0.688826   \n",
       "830                                  -1.130428   \n",
       "\n",
       "     Blast Furnace Slag (component 2)(kg in a m^3 mixture)  \\\n",
       "196                                          -0.855292       \n",
       "631                                          -0.855292       \n",
       "81                                            1.568944       \n",
       "526                                          -0.638537       \n",
       "830                                           1.312260       \n",
       "\n",
       "     Fly Ash (component 3)(kg in a m^3 mixture)  \\\n",
       "196                                    0.762033   \n",
       "631                                   -0.816902   \n",
       "81                                    -0.816902   \n",
       "526                                    1.397879   \n",
       "830                                    1.507833   \n",
       "\n",
       "     Water  (component 4)(kg in a m^3 mixture)  \\\n",
       "196                                  -0.765446   \n",
       "631                                   0.103778   \n",
       "81                                   -1.234582   \n",
       "526                                  -1.314978   \n",
       "830                                  -0.132681   \n",
       "\n",
       "     Superplasticizer (component 5)(kg in a m^3 mixture)  \\\n",
       "196                                           0.224201     \n",
       "631                                          -1.013764     \n",
       "81                                            1.352934     \n",
       "526                                           0.791878     \n",
       "830                                           2.130800     \n",
       "\n",
       "     Coarse Aggregate  (component 6)(kg in a m^3 mixture)  \\\n",
       "196                                           0.415550      \n",
       "631                                           1.136985      \n",
       "81                                           -1.551189      \n",
       "526                                          -0.405305      \n",
       "830                                          -1.730910      \n",
       "\n",
       "     Fine Aggregate (component 7)(kg in a m^3 mixture)  Age (day)  \n",
       "196                                           1.676831  -0.292980  \n",
       "631                                           0.141922  -0.633845  \n",
       "81                                            1.358359  -0.698772  \n",
       "526                                           0.366726  -0.698772  \n",
       "830                                          -0.382619  -0.292980  "
      ]
     },
     "execution_count": 279,
     "metadata": {},
     "output_type": "execute_result"
    }
   ],
   "source": [
    "X_train_norm.head()"
   ]
  },
  {
   "cell_type": "markdown",
   "id": "54669bfc",
   "metadata": {},
   "source": [
    "# Varients of Gradient descent"
   ]
  },
  {
   "cell_type": "code",
   "execution_count": 280,
   "id": "52151c65",
   "metadata": {},
   "outputs": [],
   "source": [
    "def gradJ(W,X,Y):\n",
    "    \"\"\"\n",
    "    Calculates gradient of squared error vector wrt to weights\n",
    "    \"\"\"\n",
    "    m = X.shape[0]\n",
    "    grad_J= (X.T@(X@W-Y))*(1/m)\n",
    "    return grad_J\n",
    "\n",
    "def mse_error(W,X,Y):\n",
    "    \"\"\"\n",
    "    Calculates mean squared error between predicted vector Y and true Y .\n",
    "    \"\"\"\n",
    "    m = X.shape[0]\n",
    "    #print(np.linalg.norm(Y-X@W))\n",
    "    error = np.sum(np.square(Y-X@W))*(1/m)\n",
    "    return error\n",
    "\n",
    "def r2score(W,X,Y):\n",
    "    X = X.copy()\n",
    "    X['bias'] = np.ones(X.shape[0])\n",
    "    y_pred = np.array(X)@np.array(W)\n",
    "    return r2_score(Y,y_pred)"
   ]
  },
  {
   "cell_type": "markdown",
   "id": "8f4bae97",
   "metadata": {},
   "source": [
    "## Batch Gradient Descent"
   ]
  },
  {
   "cell_type": "code",
   "execution_count": 282,
   "id": "0226b585",
   "metadata": {},
   "outputs": [],
   "source": [
    "def batch_grad(X,Y, alpha = 1e-5,max_iter = 10000):\n",
    "    \"\"\"\n",
    "    This function implements Batch gradient descent assuming least squared cost function\n",
    "    X : training data matrix with shape(n_samples,n_features), can be either dataframe or numpy array\n",
    "    Y : training data labels with shape(n_samples,1)  \n",
    "    alpha : learning rate , by default value is 1e-5\n",
    "    max_iter : maximum no of iteration , by default value is 10000\n",
    "    \"\"\"\n",
    "    n_samples = X.shape[0]\n",
    "    X = X.copy()\n",
    "    X['bias'] = np.ones(n_samples)\n",
    "    n_features = X.shape[1]\n",
    "    W_old = np.zeros((n_features,1))\n",
    "    W_new = W_old\n",
    "    mse = []\n",
    "    iterations = 0\n",
    "    while (iterations<max_iter):\n",
    "        W_old = W_new\n",
    "        del_w = alpha*gradJ(W_old,X,Y)\n",
    "        W_new = W_old-del_w\n",
    "        error = mse_error(W_new,X,Y)\n",
    "        mse.append(error)\n",
    "        if iterations%5000==0:\n",
    "            print('iterations = ',iterations,' training error = ',mse[-1][0])\n",
    "        iterations+=1\n",
    "    plt.figure(figsize=(6,6))\n",
    "    plt.plot(np.arange(len(mse)),mse,'-')\n",
    "    \n",
    "    return W_new"
   ]
  },
  {
   "cell_type": "markdown",
   "id": "b4554c52",
   "metadata": {},
   "source": [
    "### Without data normalization"
   ]
  },
  {
   "cell_type": "code",
   "execution_count": 284,
   "id": "848da8a5",
   "metadata": {},
   "outputs": [
    {
     "name": "stdout",
     "output_type": "stream",
     "text": [
      "iterations =  0  training error =  3627053578.096343\n"
     ]
    },
    {
     "name": "stderr",
     "output_type": "stream",
     "text": [
      "/Users/uttkarshjain/tensorflow-test/env/lib/python3.8/site-packages/numpy/core/_methods.py:48: RuntimeWarning: overflow encountered in reduce\n",
      "  return umr_sum(a, axis, dtype, out, keepdims, initial, where)\n",
      "/Users/uttkarshjain/tensorflow-test/env/lib/python3.8/site-packages/pandas/core/internals/blocks.py:351: RuntimeWarning: overflow encountered in square\n",
      "  result = func(self.values, **kwargs)\n"
     ]
    },
    {
     "name": "stdout",
     "output_type": "stream",
     "text": [
      "iterations =  5000  training error =  0.0\n",
      "iterations =  10000  training error =  0.0\n",
      "iterations =  15000  training error =  0.0\n",
      "iterations =  20000  training error =  0.0\n",
      "iterations =  25000  training error =  0.0\n",
      "iterations =  30000  training error =  0.0\n",
      "iterations =  35000  training error =  0.0\n",
      "iterations =  40000  training error =  0.0\n",
      "iterations =  45000  training error =  0.0\n"
     ]
    },
    {
     "data": {
      "text/html": [
       "<div>\n",
       "<style scoped>\n",
       "    .dataframe tbody tr th:only-of-type {\n",
       "        vertical-align: middle;\n",
       "    }\n",
       "\n",
       "    .dataframe tbody tr th {\n",
       "        vertical-align: top;\n",
       "    }\n",
       "\n",
       "    .dataframe thead th {\n",
       "        text-align: right;\n",
       "    }\n",
       "</style>\n",
       "<table border=\"1\" class=\"dataframe\">\n",
       "  <thead>\n",
       "    <tr style=\"text-align: right;\">\n",
       "      <th></th>\n",
       "      <th>0</th>\n",
       "    </tr>\n",
       "  </thead>\n",
       "  <tbody>\n",
       "    <tr>\n",
       "      <th>Cement (component 1)(kg in a m^3 mixture)</th>\n",
       "      <td>NaN</td>\n",
       "    </tr>\n",
       "    <tr>\n",
       "      <th>Blast Furnace Slag (component 2)(kg in a m^3 mixture)</th>\n",
       "      <td>NaN</td>\n",
       "    </tr>\n",
       "    <tr>\n",
       "      <th>Fly Ash (component 3)(kg in a m^3 mixture)</th>\n",
       "      <td>NaN</td>\n",
       "    </tr>\n",
       "    <tr>\n",
       "      <th>Water  (component 4)(kg in a m^3 mixture)</th>\n",
       "      <td>NaN</td>\n",
       "    </tr>\n",
       "    <tr>\n",
       "      <th>Superplasticizer (component 5)(kg in a m^3 mixture)</th>\n",
       "      <td>NaN</td>\n",
       "    </tr>\n",
       "    <tr>\n",
       "      <th>Coarse Aggregate  (component 6)(kg in a m^3 mixture)</th>\n",
       "      <td>NaN</td>\n",
       "    </tr>\n",
       "    <tr>\n",
       "      <th>Fine Aggregate (component 7)(kg in a m^3 mixture)</th>\n",
       "      <td>NaN</td>\n",
       "    </tr>\n",
       "    <tr>\n",
       "      <th>Age (day)</th>\n",
       "      <td>NaN</td>\n",
       "    </tr>\n",
       "    <tr>\n",
       "      <th>bias</th>\n",
       "      <td>NaN</td>\n",
       "    </tr>\n",
       "  </tbody>\n",
       "</table>\n",
       "</div>"
      ],
      "text/plain": [
       "                                                     0\n",
       "Cement (component 1)(kg in a m^3 mixture)          NaN\n",
       "Blast Furnace Slag (component 2)(kg in a m^3 mi... NaN\n",
       "Fly Ash (component 3)(kg in a m^3 mixture)         NaN\n",
       "Water  (component 4)(kg in a m^3 mixture)          NaN\n",
       "Superplasticizer (component 5)(kg in a m^3 mixt... NaN\n",
       "Coarse Aggregate  (component 6)(kg in a m^3 mix... NaN\n",
       "Fine Aggregate (component 7)(kg in a m^3 mixture)  NaN\n",
       "Age (day)                                          NaN\n",
       "bias                                               NaN"
      ]
     },
     "execution_count": 284,
     "metadata": {},
     "output_type": "execute_result"
    },
    {
     "data": {
      "image/png": "[encoded data removed]",
      "text/plain": [
       "<Figure size 600x600 with 1 Axes>"
      ]
     },
     "metadata": {},
     "output_type": "display_data"
    }
   ],
   "source": [
    "batch_grad(X_train,np.array(y_train).reshape(721,1),alpha=1e-3,max_iter = 50000)"
   ]
  },
  {
   "cell_type": "code",
   "execution_count": 285,
   "id": "319738a1",
   "metadata": {},
   "outputs": [
    {
     "name": "stdout",
     "output_type": "stream",
     "text": [
      "iterations =  0  training error =  35880952.858488776\n"
     ]
    },
    {
     "name": "stderr",
     "output_type": "stream",
     "text": [
      "/Users/uttkarshjain/tensorflow-test/env/lib/python3.8/site-packages/pandas/core/internals/blocks.py:351: RuntimeWarning: overflow encountered in square\n",
      "  result = func(self.values, **kwargs)\n"
     ]
    },
    {
     "name": "stdout",
     "output_type": "stream",
     "text": [
      "iterations =  5000  training error =  0.0\n",
      "iterations =  10000  training error =  0.0\n",
      "iterations =  15000  training error =  0.0\n",
      "iterations =  20000  training error =  0.0\n",
      "iterations =  25000  training error =  0.0\n",
      "iterations =  30000  training error =  0.0\n",
      "iterations =  35000  training error =  0.0\n",
      "iterations =  40000  training error =  0.0\n",
      "iterations =  45000  training error =  0.0\n"
     ]
    },
    {
     "data": {
      "text/html": [
       "<div>\n",
       "<style scoped>\n",
       "    .dataframe tbody tr th:only-of-type {\n",
       "        vertical-align: middle;\n",
       "    }\n",
       "\n",
       "    .dataframe tbody tr th {\n",
       "        vertical-align: top;\n",
       "    }\n",
       "\n",
       "    .dataframe thead th {\n",
       "        text-align: right;\n",
       "    }\n",
       "</style>\n",
       "<table border=\"1\" class=\"dataframe\">\n",
       "  <thead>\n",
       "    <tr style=\"text-align: right;\">\n",
       "      <th></th>\n",
       "      <th>0</th>\n",
       "    </tr>\n",
       "  </thead>\n",
       "  <tbody>\n",
       "    <tr>\n",
       "      <th>Cement (component 1)(kg in a m^3 mixture)</th>\n",
       "      <td>NaN</td>\n",
       "    </tr>\n",
       "    <tr>\n",
       "      <th>Blast Furnace Slag (component 2)(kg in a m^3 mixture)</th>\n",
       "      <td>NaN</td>\n",
       "    </tr>\n",
       "    <tr>\n",
       "      <th>Fly Ash (component 3)(kg in a m^3 mixture)</th>\n",
       "      <td>NaN</td>\n",
       "    </tr>\n",
       "    <tr>\n",
       "      <th>Water  (component 4)(kg in a m^3 mixture)</th>\n",
       "      <td>NaN</td>\n",
       "    </tr>\n",
       "    <tr>\n",
       "      <th>Superplasticizer (component 5)(kg in a m^3 mixture)</th>\n",
       "      <td>NaN</td>\n",
       "    </tr>\n",
       "    <tr>\n",
       "      <th>Coarse Aggregate  (component 6)(kg in a m^3 mixture)</th>\n",
       "      <td>NaN</td>\n",
       "    </tr>\n",
       "    <tr>\n",
       "      <th>Fine Aggregate (component 7)(kg in a m^3 mixture)</th>\n",
       "      <td>NaN</td>\n",
       "    </tr>\n",
       "    <tr>\n",
       "      <th>Age (day)</th>\n",
       "      <td>NaN</td>\n",
       "    </tr>\n",
       "    <tr>\n",
       "      <th>bias</th>\n",
       "      <td>NaN</td>\n",
       "    </tr>\n",
       "  </tbody>\n",
       "</table>\n",
       "</div>"
      ],
      "text/plain": [
       "                                                     0\n",
       "Cement (component 1)(kg in a m^3 mixture)          NaN\n",
       "Blast Furnace Slag (component 2)(kg in a m^3 mi... NaN\n",
       "Fly Ash (component 3)(kg in a m^3 mixture)         NaN\n",
       "Water  (component 4)(kg in a m^3 mixture)          NaN\n",
       "Superplasticizer (component 5)(kg in a m^3 mixt... NaN\n",
       "Coarse Aggregate  (component 6)(kg in a m^3 mix... NaN\n",
       "Fine Aggregate (component 7)(kg in a m^3 mixture)  NaN\n",
       "Age (day)                                          NaN\n",
       "bias                                               NaN"
      ]
     },
     "execution_count": 285,
     "metadata": {},
     "output_type": "execute_result"
    },
    {
     "data": {
      "image/png": "[encoded data removed]",
      "text/plain": [
       "<Figure size 600x600 with 1 Axes>"
      ]
     },
     "metadata": {},
     "output_type": "display_data"
    }
   ],
   "source": [
    "batch_grad(X_train,np.array(y_train).reshape(721,1),alpha=1e-4,max_iter = 50000)"
   ]
  },
  {
   "cell_type": "code",
   "execution_count": 286,
   "id": "b8bf0ef9",
   "metadata": {},
   "outputs": [
    {
     "name": "stdout",
     "output_type": "stream",
     "text": [
      "iterations =  0  training error =  321267.00969354756\n"
     ]
    },
    {
     "name": "stderr",
     "output_type": "stream",
     "text": [
      "/Users/uttkarshjain/tensorflow-test/env/lib/python3.8/site-packages/numpy/core/_methods.py:48: RuntimeWarning: overflow encountered in reduce\n",
      "  return umr_sum(a, axis, dtype, out, keepdims, initial, where)\n",
      "/Users/uttkarshjain/tensorflow-test/env/lib/python3.8/site-packages/pandas/core/internals/blocks.py:351: RuntimeWarning: overflow encountered in square\n",
      "  result = func(self.values, **kwargs)\n"
     ]
    },
    {
     "name": "stdout",
     "output_type": "stream",
     "text": [
      "iterations =  5000  training error =  0.0\n",
      "iterations =  10000  training error =  0.0\n",
      "iterations =  15000  training error =  0.0\n",
      "iterations =  20000  training error =  0.0\n",
      "iterations =  25000  training error =  0.0\n",
      "iterations =  30000  training error =  0.0\n",
      "iterations =  35000  training error =  0.0\n",
      "iterations =  40000  training error =  0.0\n",
      "iterations =  45000  training error =  0.0\n"
     ]
    },
    {
     "data": {
      "text/html": [
       "<div>\n",
       "<style scoped>\n",
       "    .dataframe tbody tr th:only-of-type {\n",
       "        vertical-align: middle;\n",
       "    }\n",
       "\n",
       "    .dataframe tbody tr th {\n",
       "        vertical-align: top;\n",
       "    }\n",
       "\n",
       "    .dataframe thead th {\n",
       "        text-align: right;\n",
       "    }\n",
       "</style>\n",
       "<table border=\"1\" class=\"dataframe\">\n",
       "  <thead>\n",
       "    <tr style=\"text-align: right;\">\n",
       "      <th></th>\n",
       "      <th>0</th>\n",
       "    </tr>\n",
       "  </thead>\n",
       "  <tbody>\n",
       "    <tr>\n",
       "      <th>Cement (component 1)(kg in a m^3 mixture)</th>\n",
       "      <td>NaN</td>\n",
       "    </tr>\n",
       "    <tr>\n",
       "      <th>Blast Furnace Slag (component 2)(kg in a m^3 mixture)</th>\n",
       "      <td>NaN</td>\n",
       "    </tr>\n",
       "    <tr>\n",
       "      <th>Fly Ash (component 3)(kg in a m^3 mixture)</th>\n",
       "      <td>NaN</td>\n",
       "    </tr>\n",
       "    <tr>\n",
       "      <th>Water  (component 4)(kg in a m^3 mixture)</th>\n",
       "      <td>NaN</td>\n",
       "    </tr>\n",
       "    <tr>\n",
       "      <th>Superplasticizer (component 5)(kg in a m^3 mixture)</th>\n",
       "      <td>NaN</td>\n",
       "    </tr>\n",
       "    <tr>\n",
       "      <th>Coarse Aggregate  (component 6)(kg in a m^3 mixture)</th>\n",
       "      <td>NaN</td>\n",
       "    </tr>\n",
       "    <tr>\n",
       "      <th>Fine Aggregate (component 7)(kg in a m^3 mixture)</th>\n",
       "      <td>NaN</td>\n",
       "    </tr>\n",
       "    <tr>\n",
       "      <th>Age (day)</th>\n",
       "      <td>NaN</td>\n",
       "    </tr>\n",
       "    <tr>\n",
       "      <th>bias</th>\n",
       "      <td>NaN</td>\n",
       "    </tr>\n",
       "  </tbody>\n",
       "</table>\n",
       "</div>"
      ],
      "text/plain": [
       "                                                     0\n",
       "Cement (component 1)(kg in a m^3 mixture)          NaN\n",
       "Blast Furnace Slag (component 2)(kg in a m^3 mi... NaN\n",
       "Fly Ash (component 3)(kg in a m^3 mixture)         NaN\n",
       "Water  (component 4)(kg in a m^3 mixture)          NaN\n",
       "Superplasticizer (component 5)(kg in a m^3 mixt... NaN\n",
       "Coarse Aggregate  (component 6)(kg in a m^3 mix... NaN\n",
       "Fine Aggregate (component 7)(kg in a m^3 mixture)  NaN\n",
       "Age (day)                                          NaN\n",
       "bias                                               NaN"
      ]
     },
     "execution_count": 286,
     "metadata": {},
     "output_type": "execute_result"
    },
    {
     "data": {
      "image/png": "[encoded data removed]",
      "text/plain": [
       "<Figure size 600x600 with 1 Axes>"
      ]
     },
     "metadata": {},
     "output_type": "display_data"
    }
   ],
   "source": [
    "batch_grad(X_train,np.array(y_train).reshape(721,1),alpha=1e-5,max_iter = 50000)"
   ]
  },
  {
   "cell_type": "code",
   "execution_count": 287,
   "id": "d6e4267f",
   "metadata": {},
   "outputs": [
    {
     "name": "stdout",
     "output_type": "stream",
     "text": [
      "iterations =  0  training error =  874.1915639266603\n",
      "iterations =  5000  training error =  108.96936397366962\n",
      "iterations =  10000  training error =  108.74228601860767\n",
      "iterations =  15000  training error =  108.62197848692215\n",
      "iterations =  20000  training error =  108.51748290920627\n",
      "iterations =  25000  training error =  108.42653158386017\n",
      "iterations =  30000  training error =  108.34736841270073\n",
      "iterations =  35000  training error =  108.27846552288601\n",
      "iterations =  40000  training error =  108.21849307200992\n",
      "iterations =  45000  training error =  108.16629357949638\n"
     ]
    },
    {
     "data": {
      "text/html": [
       "<div>\n",
       "<style scoped>\n",
       "    .dataframe tbody tr th:only-of-type {\n",
       "        vertical-align: middle;\n",
       "    }\n",
       "\n",
       "    .dataframe tbody tr th {\n",
       "        vertical-align: top;\n",
       "    }\n",
       "\n",
       "    .dataframe thead th {\n",
       "        text-align: right;\n",
       "    }\n",
       "</style>\n",
       "<table border=\"1\" class=\"dataframe\">\n",
       "  <thead>\n",
       "    <tr style=\"text-align: right;\">\n",
       "      <th></th>\n",
       "      <th>0</th>\n",
       "    </tr>\n",
       "  </thead>\n",
       "  <tbody>\n",
       "    <tr>\n",
       "      <th>Cement (component 1)(kg in a m^3 mixture)</th>\n",
       "      <td>0.113033</td>\n",
       "    </tr>\n",
       "    <tr>\n",
       "      <th>Blast Furnace Slag (component 2)(kg in a m^3 mixture)</th>\n",
       "      <td>0.101994</td>\n",
       "    </tr>\n",
       "    <tr>\n",
       "      <th>Fly Ash (component 3)(kg in a m^3 mixture)</th>\n",
       "      <td>0.075847</td>\n",
       "    </tr>\n",
       "    <tr>\n",
       "      <th>Water  (component 4)(kg in a m^3 mixture)</th>\n",
       "      <td>-0.188175</td>\n",
       "    </tr>\n",
       "    <tr>\n",
       "      <th>Superplasticizer (component 5)(kg in a m^3 mixture)</th>\n",
       "      <td>0.182837</td>\n",
       "    </tr>\n",
       "    <tr>\n",
       "      <th>Coarse Aggregate  (component 6)(kg in a m^3 mixture)</th>\n",
       "      <td>0.007689</td>\n",
       "    </tr>\n",
       "    <tr>\n",
       "      <th>Fine Aggregate (component 7)(kg in a m^3 mixture)</th>\n",
       "      <td>0.016565</td>\n",
       "    </tr>\n",
       "    <tr>\n",
       "      <th>Age (day)</th>\n",
       "      <td>0.113841</td>\n",
       "    </tr>\n",
       "    <tr>\n",
       "      <th>bias</th>\n",
       "      <td>-0.000419</td>\n",
       "    </tr>\n",
       "  </tbody>\n",
       "</table>\n",
       "</div>"
      ],
      "text/plain": [
       "                                                           0\n",
       "Cement (component 1)(kg in a m^3 mixture)           0.113033\n",
       "Blast Furnace Slag (component 2)(kg in a m^3 mi...  0.101994\n",
       "Fly Ash (component 3)(kg in a m^3 mixture)          0.075847\n",
       "Water  (component 4)(kg in a m^3 mixture)          -0.188175\n",
       "Superplasticizer (component 5)(kg in a m^3 mixt...  0.182837\n",
       "Coarse Aggregate  (component 6)(kg in a m^3 mix...  0.007689\n",
       "Fine Aggregate (component 7)(kg in a m^3 mixture)   0.016565\n",
       "Age (day)                                           0.113841\n",
       "bias                                               -0.000419"
      ]
     },
     "execution_count": 287,
     "metadata": {},
     "output_type": "execute_result"
    },
    {
     "data": {
      "image/png": "[encoded data removed]",
      "text/plain": [
       "<Figure size 600x600 with 1 Axes>"
      ]
     },
     "metadata": {},
     "output_type": "display_data"
    }
   ],
   "source": [
    "batch_grad(X_train,np.array(y_train).reshape(721,1),alpha=1e-6,max_iter = 50000)"
   ]
  },
  {
   "cell_type": "code",
   "execution_count": 288,
   "id": "cf7cf2c6",
   "metadata": {},
   "outputs": [
    {
     "name": "stdout",
     "output_type": "stream",
     "text": [
      "iterations =  0  training error =  1190.6674184635926\n",
      "iterations =  5000  training error =  132.25370567203382\n",
      "iterations =  10000  training error =  119.3108580049995\n",
      "iterations =  15000  training error =  114.47914963913277\n",
      "iterations =  20000  training error =  112.00353101147869\n",
      "iterations =  25000  training error =  110.64029797204373\n",
      "iterations =  30000  training error =  109.87714204895536\n",
      "iterations =  35000  training error =  109.44607640744354\n",
      "iterations =  40000  training error =  109.19965309846445\n",
      "iterations =  45000  training error =  109.05600958476205\n"
     ]
    },
    {
     "data": {
      "text/html": [
       "<div>\n",
       "<style scoped>\n",
       "    .dataframe tbody tr th:only-of-type {\n",
       "        vertical-align: middle;\n",
       "    }\n",
       "\n",
       "    .dataframe tbody tr th {\n",
       "        vertical-align: top;\n",
       "    }\n",
       "\n",
       "    .dataframe thead th {\n",
       "        text-align: right;\n",
       "    }\n",
       "</style>\n",
       "<table border=\"1\" class=\"dataframe\">\n",
       "  <thead>\n",
       "    <tr style=\"text-align: right;\">\n",
       "      <th></th>\n",
       "      <th>0</th>\n",
       "    </tr>\n",
       "  </thead>\n",
       "  <tbody>\n",
       "    <tr>\n",
       "      <th>Cement (component 1)(kg in a m^3 mixture)</th>\n",
       "      <td>0.116375</td>\n",
       "    </tr>\n",
       "    <tr>\n",
       "      <th>Blast Furnace Slag (component 2)(kg in a m^3 mixture)</th>\n",
       "      <td>0.105276</td>\n",
       "    </tr>\n",
       "    <tr>\n",
       "      <th>Fly Ash (component 3)(kg in a m^3 mixture)</th>\n",
       "      <td>0.083454</td>\n",
       "    </tr>\n",
       "    <tr>\n",
       "      <th>Water  (component 4)(kg in a m^3 mixture)</th>\n",
       "      <td>-0.190297</td>\n",
       "    </tr>\n",
       "    <tr>\n",
       "      <th>Superplasticizer (component 5)(kg in a m^3 mixture)</th>\n",
       "      <td>0.053976</td>\n",
       "    </tr>\n",
       "    <tr>\n",
       "      <th>Coarse Aggregate  (component 6)(kg in a m^3 mixture)</th>\n",
       "      <td>0.005709</td>\n",
       "    </tr>\n",
       "    <tr>\n",
       "      <th>Fine Aggregate (component 7)(kg in a m^3 mixture)</th>\n",
       "      <td>0.018596</td>\n",
       "    </tr>\n",
       "    <tr>\n",
       "      <th>Age (day)</th>\n",
       "      <td>0.112764</td>\n",
       "    </tr>\n",
       "    <tr>\n",
       "      <th>bias</th>\n",
       "      <td>-0.000136</td>\n",
       "    </tr>\n",
       "  </tbody>\n",
       "</table>\n",
       "</div>"
      ],
      "text/plain": [
       "                                                           0\n",
       "Cement (component 1)(kg in a m^3 mixture)           0.116375\n",
       "Blast Furnace Slag (component 2)(kg in a m^3 mi...  0.105276\n",
       "Fly Ash (component 3)(kg in a m^3 mixture)          0.083454\n",
       "Water  (component 4)(kg in a m^3 mixture)          -0.190297\n",
       "Superplasticizer (component 5)(kg in a m^3 mixt...  0.053976\n",
       "Coarse Aggregate  (component 6)(kg in a m^3 mix...  0.005709\n",
       "Fine Aggregate (component 7)(kg in a m^3 mixture)   0.018596\n",
       "Age (day)                                           0.112764\n",
       "bias                                               -0.000136"
      ]
     },
     "execution_count": 288,
     "metadata": {},
     "output_type": "execute_result"
    },
    {
     "data": {
      "image/png": "[encoded data removed]",
      "text/plain": [
       "<Figure size 600x600 with 1 Axes>"
      ]
     },
     "metadata": {},
     "output_type": "display_data"
    }
   ],
   "source": [
    "batch_grad(X_train,np.array(y_train).reshape(721,1),alpha=1e-7,max_iter = 50000)"
   ]
  },
  {
   "cell_type": "code",
   "execution_count": 292,
   "id": "7096a476",
   "metadata": {},
   "outputs": [
    {
     "name": "stdout",
     "output_type": "stream",
     "text": [
      "iterations =  0  training error =  874.1915639266603\n",
      "iterations =  5000  training error =  108.96936397366962\n",
      "iterations =  10000  training error =  108.74228601860767\n",
      "iterations =  15000  training error =  108.62197848692215\n",
      "iterations =  20000  training error =  108.51748290920627\n",
      "iterations =  25000  training error =  108.42653158386017\n",
      "iterations =  30000  training error =  108.34736841270073\n",
      "iterations =  35000  training error =  108.27846552288601\n",
      "iterations =  40000  training error =  108.21849307200992\n",
      "iterations =  45000  training error =  108.16629357949638\n"
     ]
    },
    {
     "data": {
      "image/png": "[encoded data removed]",
      "text/plain": [
       "<Figure size 600x600 with 1 Axes>"
      ]
     },
     "metadata": {},
     "output_type": "display_data"
    }
   ],
   "source": [
    "W_b = batch_grad(X_train,np.array(y_train).reshape(721,1),alpha=1e-6,max_iter = 50000)"
   ]
  },
  {
   "cell_type": "code",
   "execution_count": 289,
   "id": "d9d36388",
   "metadata": {},
   "outputs": [
    {
     "data": {
      "text/html": [
       "<div>\n",
       "<style scoped>\n",
       "    .dataframe tbody tr th:only-of-type {\n",
       "        vertical-align: middle;\n",
       "    }\n",
       "\n",
       "    .dataframe tbody tr th {\n",
       "        vertical-align: top;\n",
       "    }\n",
       "\n",
       "    .dataframe thead th {\n",
       "        text-align: right;\n",
       "    }\n",
       "</style>\n",
       "<table border=\"1\" class=\"dataframe\">\n",
       "  <thead>\n",
       "    <tr style=\"text-align: right;\">\n",
       "      <th></th>\n",
       "      <th>0</th>\n",
       "    </tr>\n",
       "  </thead>\n",
       "  <tbody>\n",
       "    <tr>\n",
       "      <th>Cement (component 1)(kg in a m^3 mixture)</th>\n",
       "      <td>0.113033</td>\n",
       "    </tr>\n",
       "    <tr>\n",
       "      <th>Blast Furnace Slag (component 2)(kg in a m^3 mixture)</th>\n",
       "      <td>0.101994</td>\n",
       "    </tr>\n",
       "    <tr>\n",
       "      <th>Fly Ash (component 3)(kg in a m^3 mixture)</th>\n",
       "      <td>0.075847</td>\n",
       "    </tr>\n",
       "    <tr>\n",
       "      <th>Water  (component 4)(kg in a m^3 mixture)</th>\n",
       "      <td>-0.188175</td>\n",
       "    </tr>\n",
       "    <tr>\n",
       "      <th>Superplasticizer (component 5)(kg in a m^3 mixture)</th>\n",
       "      <td>0.182837</td>\n",
       "    </tr>\n",
       "    <tr>\n",
       "      <th>Coarse Aggregate  (component 6)(kg in a m^3 mixture)</th>\n",
       "      <td>0.007689</td>\n",
       "    </tr>\n",
       "    <tr>\n",
       "      <th>Fine Aggregate (component 7)(kg in a m^3 mixture)</th>\n",
       "      <td>0.016565</td>\n",
       "    </tr>\n",
       "    <tr>\n",
       "      <th>Age (day)</th>\n",
       "      <td>0.113841</td>\n",
       "    </tr>\n",
       "    <tr>\n",
       "      <th>bias</th>\n",
       "      <td>-0.000419</td>\n",
       "    </tr>\n",
       "  </tbody>\n",
       "</table>\n",
       "</div>"
      ],
      "text/plain": [
       "                                                           0\n",
       "Cement (component 1)(kg in a m^3 mixture)           0.113033\n",
       "Blast Furnace Slag (component 2)(kg in a m^3 mi...  0.101994\n",
       "Fly Ash (component 3)(kg in a m^3 mixture)          0.075847\n",
       "Water  (component 4)(kg in a m^3 mixture)          -0.188175\n",
       "Superplasticizer (component 5)(kg in a m^3 mixt...  0.182837\n",
       "Coarse Aggregate  (component 6)(kg in a m^3 mix...  0.007689\n",
       "Fine Aggregate (component 7)(kg in a m^3 mixture)   0.016565\n",
       "Age (day)                                           0.113841\n",
       "bias                                               -0.000419"
      ]
     },
     "execution_count": 289,
     "metadata": {},
     "output_type": "execute_result"
    }
   ],
   "source": [
    "W_b"
   ]
  },
  {
   "cell_type": "markdown",
   "id": "9dc727a6",
   "metadata": {},
   "source": [
    "Here we can see the warning by python as error is overflowing in most of the learning rates , also at very low learning rate (alpha = 1e-6 or 1e-7) the gradient descent is converging . So we try with data normalization"
   ]
  },
  {
   "cell_type": "code",
   "execution_count": 290,
   "id": "0c7b1033",
   "metadata": {},
   "outputs": [
    {
     "data": {
      "text/plain": [
       "0.6165419421401972"
      ]
     },
     "execution_count": 290,
     "metadata": {},
     "output_type": "execute_result"
    }
   ],
   "source": [
    "r2score(W_b,X_train,y_train)"
   ]
  },
  {
   "cell_type": "code",
   "execution_count": 291,
   "id": "1a18ddb9",
   "metadata": {},
   "outputs": [
    {
     "data": {
      "text/plain": [
       "0.6025803085660668"
      ]
     },
     "execution_count": 291,
     "metadata": {},
     "output_type": "execute_result"
    }
   ],
   "source": [
    "r2score(W_b,X_test,y_test)"
   ]
  },
  {
   "cell_type": "markdown",
   "id": "5f9e9053",
   "metadata": {},
   "source": [
    "### With data normalization"
   ]
  },
  {
   "cell_type": "code",
   "execution_count": 267,
   "id": "a7e96da5",
   "metadata": {},
   "outputs": [
    {
     "name": "stdout",
     "output_type": "stream",
     "text": [
      "iterations =  0  training error =  1528.0299936420124\n",
      "iterations =  5000  training error =  622.8511217462896\n",
      "iterations =  10000  training error =  300.306922059581\n",
      "iterations =  15000  training error =  183.69379162636943\n",
      "iterations =  20000  training error =  140.8761408602282\n",
      "iterations =  25000  training error =  124.81150180788875\n",
      "iterations =  30000  training error =  118.55395802667257\n",
      "iterations =  35000  training error =  115.93923569131842\n",
      "iterations =  40000  training error =  114.70485305509837\n",
      "iterations =  45000  training error =  114.01226422590386\n"
     ]
    },
    {
     "data": {
      "image/png": "[encoded data removed]",
      "text/plain": [
       "<Figure size 600x600 with 1 Axes>"
      ]
     },
     "metadata": {},
     "output_type": "display_data"
    }
   ],
   "source": [
    "W_batch = batch_grad(X_train_norm,np.array(y_train).reshape(721,1),alpha=1e-4,max_iter = 50000 )"
   ]
  },
  {
   "cell_type": "code",
   "execution_count": 293,
   "id": "0207ceff",
   "metadata": {},
   "outputs": [
    {
     "data": {
      "text/plain": [
       "0.5972992703640948"
      ]
     },
     "execution_count": 293,
     "metadata": {},
     "output_type": "execute_result"
    }
   ],
   "source": [
    "r2score(W_batch,X_train_norm,y_train)"
   ]
  },
  {
   "cell_type": "code",
   "execution_count": 294,
   "id": "3f3d041b",
   "metadata": {},
   "outputs": [
    {
     "data": {
      "text/plain": [
       "0.5823161084413944"
      ]
     },
     "execution_count": 294,
     "metadata": {},
     "output_type": "execute_result"
    }
   ],
   "source": [
    "r2score(W_batch,X_test_norm,y_test)"
   ]
  },
  {
   "cell_type": "markdown",
   "id": "66c49fef",
   "metadata": {},
   "source": [
    "With data normalization we see that convergence takes place even at higher learning rate(1e-4) and also it doesn't give extreme results in different learning rate , only convergence is slower than the optimal learning rate"
   ]
  },
  {
   "cell_type": "markdown",
   "id": "79e9a9b1",
   "metadata": {},
   "source": [
    "Also r2 score is less compared to without normalization in batch gradient descent but it can e improved if we increase max no of iterations"
   ]
  },
  {
   "cell_type": "markdown",
   "id": "239f749f",
   "metadata": {},
   "source": [
    "## Batch Gradient Descent using Pytorch"
   ]
  },
  {
   "cell_type": "code",
   "execution_count": 296,
   "id": "42183472",
   "metadata": {},
   "outputs": [],
   "source": [
    "def batch_gradient_descent(X, Y, max_iter=1000, learning_rate=1e-4):\n",
    "    # Convert pandas dataframe to PyTorch tensor\n",
    "    X = torch.tensor(X.values, dtype=torch.float32)\n",
    "    Y = torch.tensor(Y, dtype=torch.float32)\n",
    "\n",
    "    # Initialize weights\n",
    "    weights = torch.zeros(X.shape[1], dtype=torch.float32, requires_grad=True)\n",
    "    bias = torch.zeros(1, dtype=torch.float32, requires_grad=True)\n",
    "    mse = []\n",
    "    for i in range(max_iter):\n",
    "        # Compute predictions\n",
    "        predictions = X @ weights + bias\n",
    "\n",
    "        # Compute loss\n",
    "        loss = torch.mean((predictions - Y) ** 2)\n",
    "        mse.append(loss.item())\n",
    "        if i%5000==0:\n",
    "            print('iterations = ',i,'mse error = ',loss.item())\n",
    "\n",
    "        # Compute gradients\n",
    "        loss.backward()\n",
    "\n",
    "        # Update weights\n",
    "        with torch.no_grad():\n",
    "            weights -= learning_rate * weights.grad\n",
    "            bias -= learning_rate * bias.grad\n",
    "\n",
    "            # Zero the gradients\n",
    "            weights.grad.zero_()\n",
    "            bias.grad.zero_()\n",
    "    plt.figure(figsize=(6,6))\n",
    "    plt.plot(np.arange(len(mse)),mse,'-')\n",
    "    return weights.tolist()+[bias.item()]\n"
   ]
  },
  {
   "cell_type": "code",
   "execution_count": 297,
   "id": "746669a4",
   "metadata": {},
   "outputs": [
    {
     "name": "stdout",
     "output_type": "stream",
     "text": [
      "iterations =  0 mse error =  1588.97119140625\n",
      "iterations =  5000 mse error =  312.353515625\n",
      "iterations =  10000 mse error =  142.65794372558594\n",
      "iterations =  15000 mse error =  118.62361145019531\n",
      "iterations =  20000 mse error =  114.46722412109375\n",
      "iterations =  25000 mse error =  113.22908782958984\n",
      "iterations =  30000 mse error =  112.53632354736328\n",
      "iterations =  35000 mse error =  112.02058410644531\n",
      "iterations =  40000 mse error =  111.60258483886719\n",
      "iterations =  45000 mse error =  111.25211334228516\n"
     ]
    },
    {
     "data": {
      "image/png": "[encoded data removed]",
      "text/plain": [
       "<Figure size 600x600 with 1 Axes>"
      ]
     },
     "metadata": {},
     "output_type": "display_data"
    }
   ],
   "source": [
    "W_pyt_batch= batch_gradient_descent(X_train_norm,y_train,max_iter=50000,learning_rate=1e-4) "
   ]
  },
  {
   "cell_type": "code",
   "execution_count": 298,
   "id": "18a099fc",
   "metadata": {},
   "outputs": [
    {
     "data": {
      "text/plain": [
       "0.6065042624270778"
      ]
     },
     "execution_count": 298,
     "metadata": {},
     "output_type": "execute_result"
    }
   ],
   "source": [
    "r2score(W_pyt_batch,X_train_norm,y_train)"
   ]
  },
  {
   "cell_type": "code",
   "execution_count": 299,
   "id": "ffe1c6de",
   "metadata": {},
   "outputs": [
    {
     "data": {
      "text/plain": [
       "0.5931958943045291"
      ]
     },
     "execution_count": 299,
     "metadata": {},
     "output_type": "execute_result"
    }
   ],
   "source": [
    "r2score(W_pyt_batch,X_test_norm,y_test)"
   ]
  },
  {
   "cell_type": "markdown",
   "id": "31b6b8de",
   "metadata": {},
   "source": [
    "With data normlaized and using pytorch implementation the r2 score has increased from our normal implementation of gradient descent"
   ]
  },
  {
   "cell_type": "markdown",
   "id": "08221837",
   "metadata": {},
   "source": [
    "## Mini Batch Gradient Descent"
   ]
  },
  {
   "cell_type": "code",
   "execution_count": 300,
   "id": "6edf019c",
   "metadata": {},
   "outputs": [],
   "source": [
    "def mini_batch_grad(X,Y,batch_size,threshold=1e-3, alpha = 1e-5,max_epochs = 10):\n",
    "    m = X.shape[0]\n",
    "    X = X.copy()\n",
    "    X['bias'] = np.ones(m)\n",
    "    n = X.shape[1]\n",
    "    W_old = np.zeros((n,1))\n",
    "    W_new = np.ones((n,1))\n",
    "    epoch = 0\n",
    "    mse = []\n",
    "    while epoch<max_epochs:\n",
    "        i = 0\n",
    "        while i<m:\n",
    "            if i+batch_size>=m:\n",
    "                X_batch = np.array(X.iloc[i:])\n",
    "                Y_batch = Y[i:]\n",
    "            else:\n",
    "                X_batch = np.array(X.iloc[i:i+batch_size])\n",
    "                Y_batch = Y[i:i+batch_size]\n",
    "            i+=batch_size\n",
    "            W_old = W_new\n",
    "            del_w = alpha*gradJ(W_old,X_batch,Y_batch)\n",
    "            W_new = W_old-del_w\n",
    "        error = mse_error(W_new,X,Y)\n",
    "        mse.append(error)\n",
    "        if epoch%500==0:\n",
    "            print('epoch = ',epoch , 'mse training error = ',mse[-1][0])\n",
    "        epoch+=1\n",
    "    plt.figure(figsize=(12,9))\n",
    "    plt.plot(np.arange(len(mse)),mse,'-') \n",
    "    return W_new"
   ]
  },
  {
   "cell_type": "code",
   "execution_count": 306,
   "id": "2cfe2ed6",
   "metadata": {
    "scrolled": false
   },
   "outputs": [
    {
     "name": "stdout",
     "output_type": "stream",
     "text": [
      "epoch =  0 mse training error =  1495.2714178969848\n",
      "epoch =  500 mse training error =  413.67608420039306\n",
      "epoch =  1000 mse training error =  180.24721894580154\n",
      "epoch =  1500 mse training error =  128.67507770515334\n",
      "epoch =  2000 mse training error =  116.7377332623927\n",
      "epoch =  2500 mse training error =  113.57300980388459\n",
      "epoch =  3000 mse training error =  112.42033366368075\n",
      "epoch =  3500 mse training error =  111.78443836566993\n",
      "epoch =  4000 mse training error =  111.3250795223524\n",
      "epoch =  4500 mse training error =  110.95631180036375\n",
      "epoch =  5000 mse training error =  110.64932067268926\n",
      "epoch =  5500 mse training error =  110.38942682829989\n",
      "epoch =  6000 mse training error =  110.1666346797504\n",
      "epoch =  6500 mse training error =  109.97337504607749\n",
      "epoch =  7000 mse training error =  109.80377237909128\n",
      "epoch =  7500 mse training error =  109.65325327803143\n",
      "epoch =  8000 mse training error =  109.5182608596596\n",
      "epoch =  8500 mse training error =  109.39602871642897\n",
      "epoch =  9000 mse training error =  109.28440170683146\n",
      "epoch =  9500 mse training error =  109.18169554443725\n"
     ]
    },
    {
     "data": {
      "image/png": "[encoded data removed]",
      "text/plain": [
       "<Figure size 1200x900 with 1 Axes>"
      ]
     },
     "metadata": {},
     "output_type": "display_data"
    }
   ],
   "source": [
    "W_mini = mini_batch_grad(X_train_norm,np.array(y_train).reshape(-1,1),batch_size=50,alpha=1e-4,max_epochs=10000)"
   ]
  },
  {
   "cell_type": "code",
   "execution_count": 307,
   "id": "d89f6410",
   "metadata": {},
   "outputs": [
    {
     "data": {
      "text/plain": [
       "0.613116300282147"
      ]
     },
     "execution_count": 307,
     "metadata": {},
     "output_type": "execute_result"
    }
   ],
   "source": [
    "r2score(W_mini,X_train_norm,y_train)"
   ]
  },
  {
   "cell_type": "code",
   "execution_count": 308,
   "id": "bf4977ae",
   "metadata": {},
   "outputs": [
    {
     "data": {
      "text/plain": [
       "0.5974980600763224"
      ]
     },
     "execution_count": 308,
     "metadata": {},
     "output_type": "execute_result"
    }
   ],
   "source": [
    "r2score(W_mini,X_test_norm,y_test)"
   ]
  },
  {
   "cell_type": "markdown",
   "id": "7d6cd974",
   "metadata": {},
   "source": [
    "Using mini batch grad descent with batch size 50 and 1e-4 learning rate we get the optimal result only in 10000 epochs , compared to 50,000 iterations in batch gradient descent shows the effectiveness and speed of convergence provided by mini batch gradient technique"
   ]
  },
  {
   "cell_type": "markdown",
   "id": "8bccbebd",
   "metadata": {},
   "source": [
    "## Mini Batch Gradient Descent using Pytorch"
   ]
  },
  {
   "cell_type": "code",
   "execution_count": 309,
   "id": "b71a4257",
   "metadata": {},
   "outputs": [],
   "source": [
    "def mini_batch_gradient_descent(X, Y, learning_rate=1e-4, batch_size=50, max_epochs=5000):\n",
    "    X = X.copy()\n",
    "    X['bias'] = np.ones(X.shape[0])\n",
    "    # Convert dataframes to tensors\n",
    "    X = torch.tensor(X.values, dtype=torch.float32)\n",
    "    Y = torch.tensor(Y, dtype=torch.float32)\n",
    "    \n",
    "    # Initialize weights with random values\n",
    "    w = torch.zeros(X.shape[1], requires_grad=True)\n",
    "    \n",
    "    # Define the loss function\n",
    "    criterion = torch.nn.MSELoss()\n",
    "    \n",
    "    # Define the optimizer\n",
    "    optimizer = torch.optim.SGD([w], lr=learning_rate)\n",
    "    \n",
    "    mse = []\n",
    "    \n",
    "    for i in range(max_epochs):\n",
    "        j = 0\n",
    "        while j<X.shape[0]:\n",
    "            # Get the batch data\n",
    "            if j+batch_size<X.shape[0]:\n",
    "                X_batch = X[j:j+batch_size, :]\n",
    "                Y_batch = Y[j:j+batch_size]\n",
    "            else:\n",
    "                X_batch = X[j:,:]\n",
    "                Y_batch = Y[j:]\n",
    "            j+=batch_size\n",
    "            \n",
    "            # Calculate the prediction\n",
    "            prediction = torch.matmul(X_batch, w)\n",
    "            \n",
    "            # Calculate the loss\n",
    "            loss = criterion(prediction, Y_batch)\n",
    "            \n",
    "            # Clear the gradients\n",
    "            optimizer.zero_grad()\n",
    "            \n",
    "            # Compute the gradients\n",
    "            loss.backward()\n",
    "            if i%500==0 and j+batch_size>X.shape[0]:\n",
    "                print('epochs = ',i , 'mse error = ',loss.item())\n",
    "            \n",
    "            # Update the weights\n",
    "            optimizer.step()\n",
    "        mse.append(loss.item())\n",
    "    \n",
    "    return w.tolist()"
   ]
  },
  {
   "cell_type": "code",
   "execution_count": 310,
   "id": "73b7288e",
   "metadata": {},
   "outputs": [
    {
     "name": "stdout",
     "output_type": "stream",
     "text": [
      "epochs =  0 mse error =  1396.064697265625\n",
      "epochs =  0 mse error =  2097.776123046875\n",
      "epochs =  500 mse error =  139.8358917236328\n",
      "epochs =  500 mse error =  294.4385070800781\n",
      "epochs =  1000 mse error =  88.10941314697266\n",
      "epochs =  1000 mse error =  176.31556701660156\n",
      "epochs =  1500 mse error =  87.22457122802734\n",
      "epochs =  1500 mse error =  163.46302795410156\n",
      "epochs =  2000 mse error =  87.74759674072266\n",
      "epochs =  2000 mse error =  160.97006225585938\n",
      "epochs =  2500 mse error =  88.16218566894531\n",
      "epochs =  2500 mse error =  160.099853515625\n",
      "epochs =  3000 mse error =  88.52822875976562\n",
      "epochs =  3000 mse error =  159.58172607421875\n",
      "epochs =  3500 mse error =  88.86053466796875\n",
      "epochs =  3500 mse error =  159.1724853515625\n",
      "epochs =  4000 mse error =  89.15949249267578\n",
      "epochs =  4000 mse error =  158.8154754638672\n",
      "epochs =  4500 mse error =  89.42613983154297\n",
      "epochs =  4500 mse error =  158.4886016845703\n",
      "epochs =  5000 mse error =  89.6642837524414\n",
      "epochs =  5000 mse error =  158.19041442871094\n",
      "epochs =  5500 mse error =  89.87834930419922\n",
      "epochs =  5500 mse error =  157.91477966308594\n",
      "epochs =  6000 mse error =  90.07144165039062\n",
      "epochs =  6000 mse error =  157.6605224609375\n",
      "epochs =  6500 mse error =  90.25112915039062\n",
      "epochs =  6500 mse error =  157.4154510498047\n",
      "epochs =  7000 mse error =  90.41740417480469\n",
      "epochs =  7000 mse error =  157.18959045410156\n",
      "epochs =  7500 mse error =  90.57250213623047\n",
      "epochs =  7500 mse error =  156.97686767578125\n",
      "epochs =  8000 mse error =  90.7184066772461\n",
      "epochs =  8000 mse error =  156.7840118408203\n",
      "epochs =  8500 mse error =  90.857421875\n",
      "epochs =  8500 mse error =  156.60226440429688\n",
      "epochs =  9000 mse error =  90.98989868164062\n",
      "epochs =  9000 mse error =  156.4320526123047\n",
      "epochs =  9500 mse error =  91.11857604980469\n",
      "epochs =  9500 mse error =  156.2698516845703\n"
     ]
    }
   ],
   "source": [
    "W_pyt_mini = mini_batch_gradient_descent(X_train_norm,y_train,learning_rate=1e-4,batch_size=50,max_epochs=10000)"
   ]
  },
  {
   "cell_type": "code",
   "execution_count": 312,
   "id": "96702340",
   "metadata": {},
   "outputs": [
    {
     "data": {
      "text/plain": [
       "0.6158840327939503"
      ]
     },
     "execution_count": 312,
     "metadata": {},
     "output_type": "execute_result"
    }
   ],
   "source": [
    "r2score(W_pyt_mini,X_train_norm,y_train)"
   ]
  },
  {
   "cell_type": "code",
   "execution_count": 313,
   "id": "98e34aa7",
   "metadata": {},
   "outputs": [
    {
     "data": {
      "text/plain": [
       "0.5992931991327615"
      ]
     },
     "execution_count": 313,
     "metadata": {},
     "output_type": "execute_result"
    }
   ],
   "source": [
    "r2score(W_pyt_mini,X_test_norm,y_test)"
   ]
  },
  {
   "cell_type": "markdown",
   "id": "49352efa",
   "metadata": {},
   "source": [
    "Here also we see improved results compared to previous batch gradient descent by pytorch , also the time taken y pytorch implementation is very optimized and it completest iteration way faster than numpy array implementation."
   ]
  },
  {
   "cell_type": "markdown",
   "id": "b38462a4",
   "metadata": {},
   "source": [
    "## Stochastic Gradient Descent"
   ]
  },
  {
   "cell_type": "code",
   "execution_count": 114,
   "id": "69530683",
   "metadata": {
    "scrolled": false
   },
   "outputs": [
    {
     "name": "stdout",
     "output_type": "stream",
     "text": [
      "epoch =  0 mse training error =  1310.4529854493658\n",
      "epoch =  500 mse training error =  107.75056750240377\n",
      "epoch =  1000 mse training error =  107.31401684123625\n",
      "epoch =  1500 mse training error =  107.2655358042268\n",
      "epoch =  2000 mse training error =  107.26008978407374\n",
      "epoch =  2500 mse training error =  107.25945773821914\n",
      "epoch =  3000 mse training error =  107.25937776078491\n",
      "epoch =  3500 mse training error =  107.2593655459587\n"
     ]
    },
    {
     "data": {
      "image/png": "[encoded data removed]",
      "text/plain": [
       "<Figure size 1200x900 with 1 Axes>"
      ]
     },
     "metadata": {},
     "output_type": "display_data"
    }
   ],
   "source": [
    "W_stochastic = mini_batch_grad(X_train_norm,np.array(y_train).reshape(-1,1),batch_size=1,alpha=1e-4,max_epochs=4000)"
   ]
  },
  {
   "cell_type": "code",
   "execution_count": 115,
   "id": "ec76333a",
   "metadata": {},
   "outputs": [
    {
     "data": {
      "text/plain": [
       "0.6195973285172969"
      ]
     },
     "execution_count": 115,
     "metadata": {},
     "output_type": "execute_result"
    }
   ],
   "source": [
    "r2score(W_stochastic,X_train_norm,y_train)"
   ]
  },
  {
   "cell_type": "markdown",
   "id": "74b65934",
   "metadata": {},
   "source": [
    "## Stochastic Gradient Descent using Pytorch"
   ]
  },
  {
   "cell_type": "code",
   "execution_count": 211,
   "id": "64baeae1",
   "metadata": {},
   "outputs": [
    {
     "name": "stdout",
     "output_type": "stream",
     "text": [
      "epochs =  0 mse error =  1092.486328125\n",
      "epochs =  500 mse error =  3.54606032371521\n",
      "epochs =  1000 mse error =  4.820384979248047\n",
      "epochs =  1500 mse error =  4.972319602966309\n",
      "epochs =  2000 mse error =  4.989329814910889\n",
      "epochs =  2500 mse error =  4.991459846496582\n",
      "epochs =  3000 mse error =  4.991459846496582\n",
      "epochs =  3500 mse error =  4.991459846496582\n"
     ]
    }
   ],
   "source": [
    "W_pyt_mini = mini_batch_gradient_descent(X_train_norm,y_train,learning_rate=1e-4,batch_size=1,max_epochs=4000)"
   ]
  },
  {
   "cell_type": "markdown",
   "id": "743cc686",
   "metadata": {},
   "source": [
    "Stochastic gradient Descent is implemented using same code by putting batch size = 1 . The results have improved but 4000 epochs takes a lot of time compared to other techniques and given this much time mini batch can complete many iterations and give almost similar result as well "
   ]
  },
  {
   "cell_type": "markdown",
   "id": "201f429f",
   "metadata": {},
   "source": [
    "## Momentum Gradient Descent"
   ]
  },
  {
   "cell_type": "code",
   "execution_count": 315,
   "id": "2cea44cb",
   "metadata": {},
   "outputs": [],
   "source": [
    "def momentum_grad(X,Y,beta=1e-4,alpha=1e-4,max_iter = 1000):\n",
    "    m = X.shape[0]\n",
    "    X = X.copy()\n",
    "    X['bias'] = np.ones(m)\n",
    "    n = X.shape[1]\n",
    "    W_old = np.zeros((n,1))\n",
    "    W_new = np.ones((n,1))\n",
    "    del_w = W_new - W_old\n",
    "    mse = []\n",
    "    iterations = 0\n",
    "    while (iterations<max_iter):\n",
    "        W_old = W_new\n",
    "        del_w = alpha*gradJ(W_old,X,Y)+beta*del_w\n",
    "        W_new = W_old-del_w\n",
    "        #print(W_new)\n",
    "        error = mse_error(W_new,X,Y)\n",
    "        mse.append(error)\n",
    "        if iterations%5000==0:\n",
    "            print('iterations = ',iterations,' mse error = ',mse[-1][0])\n",
    "        #print('del_w^2 = ',np.linalg.norm(del_w)) \n",
    "        iterations+=1\n",
    "    plt.figure(figsize=(12,9))\n",
    "    plt.plot(np.arange(len(mse)),mse,'-')\n",
    "    return W_new\n",
    "    "
   ]
  },
  {
   "cell_type": "code",
   "execution_count": 316,
   "id": "f678507c",
   "metadata": {},
   "outputs": [
    {
     "name": "stdout",
     "output_type": "stream",
     "text": [
      "iterations =  0  mse error =  1500.1175520104382\n",
      "iterations =  5000  mse error =  612.8997336232673\n",
      "iterations =  10000  mse error =  295.64919135033085\n",
      "iterations =  15000  mse error =  180.93328965718038\n",
      "iterations =  20000  mse error =  138.88612932619645\n",
      "iterations =  25000  mse error =  123.13375717092738\n",
      "iterations =  30000  mse error =  116.98506466565846\n",
      "iterations =  35000  mse error =  114.39152248944042\n",
      "iterations =  40000  mse error =  113.14578519450261\n",
      "iterations =  45000  mse error =  112.43473609902941\n"
     ]
    },
    {
     "data": {
      "image/png": "[encoded data removed]",
      "text/plain": [
       "<Figure size 1200x900 with 1 Axes>"
      ]
     },
     "metadata": {},
     "output_type": "display_data"
    }
   ],
   "source": [
    "W_momentum = momentum_grad(X_train_norm,np.array(y_train).reshape(-1,1),beta=1e-2,alpha = 1e-4,max_iter = 50000)"
   ]
  },
  {
   "cell_type": "code",
   "execution_count": 317,
   "id": "8c9fede9",
   "metadata": {},
   "outputs": [
    {
     "data": {
      "text/plain": [
       "0.6029466454789019"
      ]
     },
     "execution_count": 317,
     "metadata": {},
     "output_type": "execute_result"
    }
   ],
   "source": [
    "r2score(W_momentum,X_train_norm,y_train)"
   ]
  },
  {
   "cell_type": "code",
   "execution_count": 323,
   "id": "bb31e464",
   "metadata": {},
   "outputs": [
    {
     "data": {
      "text/plain": [
       "0.5819783804203897"
      ]
     },
     "execution_count": 323,
     "metadata": {},
     "output_type": "execute_result"
    }
   ],
   "source": [
    "r2score(W_momentum,X_test_norm,y_test)"
   ]
  },
  {
   "cell_type": "markdown",
   "id": "7391c77a",
   "metadata": {},
   "source": [
    "As i have not used mini batch gradient descent here with momentum gradient descent , so without increasing no of iterations we can't compare results with mini batch . But if we compare it with standard batch gradient descent the r2 score have improved with same no of iterations"
   ]
  },
  {
   "cell_type": "markdown",
   "id": "c96ea1e0",
   "metadata": {},
   "source": [
    "## Momentum Gradient Descent using Pytorch"
   ]
  },
  {
   "cell_type": "code",
   "execution_count": 319,
   "id": "f5394f7a",
   "metadata": {},
   "outputs": [],
   "source": [
    "def batch_momentum_gradient_descent(X, Y, alpha, max_iterations, beta):\n",
    "    X = X.copy()\n",
    "    X['bias'] = np.ones(X.shape[0])\n",
    "    # Convert dataframes to tensors\n",
    "    X = torch.tensor(X.values, dtype=torch.float32)\n",
    "    Y = torch.tensor(Y, dtype=torch.float32)\n",
    "    \n",
    "    # Initialize weights with random values\n",
    "    w = torch.randn(X.shape[1], requires_grad=True)\n",
    "    \n",
    "    # Define the loss function\n",
    "    criterion = torch.nn.MSELoss()\n",
    "    \n",
    "    # Define the optimizer\n",
    "    optimizer = torch.optim.SGD([w], lr=alpha, momentum=beta)\n",
    "    \n",
    "    mse = []\n",
    "    for i in range(max_iterations):\n",
    "        # Calculate the prediction\n",
    "        prediction = torch.matmul(X, w)\n",
    "        \n",
    "        # Calculate the loss\n",
    "        loss = criterion(prediction, Y)\n",
    "        \n",
    "        # Clear the gradients\n",
    "        optimizer.zero_grad()\n",
    "        \n",
    "        # Compute the gradients\n",
    "        loss.backward()\n",
    "        \n",
    "        mse.append(loss.item())\n",
    "        \n",
    "        if i%5000==0:\n",
    "            print('iterations = ',i,'mse error = ',loss.item())\n",
    "        \n",
    "        # Update the weights\n",
    "        optimizer.step()\n",
    "    \n",
    "    plt.figure(figsize=(6,6))\n",
    "    plt.plot(np.arange(len(mse)),mse)\n",
    "    \n",
    "    return w.tolist()\n"
   ]
  },
  {
   "cell_type": "code",
   "execution_count": 320,
   "id": "2ff4a343",
   "metadata": {},
   "outputs": [
    {
     "name": "stdout",
     "output_type": "stream",
     "text": [
      "iterations =  0 mse error =  1598.30029296875\n",
      "iterations =  5000 mse error =  306.63446044921875\n",
      "iterations =  10000 mse error =  139.90435791015625\n",
      "iterations =  15000 mse error =  117.06440734863281\n",
      "iterations =  20000 mse error =  113.3666763305664\n",
      "iterations =  25000 mse error =  112.37071228027344\n",
      "iterations =  30000 mse error =  111.8368148803711\n",
      "iterations =  35000 mse error =  111.43463897705078\n",
      "iterations =  40000 mse error =  111.10050964355469\n",
      "iterations =  45000 mse error =  110.81332397460938\n"
     ]
    },
    {
     "data": {
      "image/png": "[encoded data removed]",
      "text/plain": [
       "<Figure size 600x600 with 1 Axes>"
      ]
     },
     "metadata": {},
     "output_type": "display_data"
    }
   ],
   "source": [
    "W_pyt_momentum = batch_momentum_gradient_descent(X_train_norm,y_train,alpha=1e-4,max_iterations = 50000,beta = 1e-2)"
   ]
  },
  {
   "cell_type": "code",
   "execution_count": 321,
   "id": "d90ecff2",
   "metadata": {},
   "outputs": [
    {
     "data": {
      "text/plain": [
       "0.6078872230354253"
      ]
     },
     "execution_count": 321,
     "metadata": {},
     "output_type": "execute_result"
    }
   ],
   "source": [
    "r2score(W_pyt_momentum,X_train_norm,y_train)"
   ]
  },
  {
   "cell_type": "code",
   "execution_count": 322,
   "id": "ce869576",
   "metadata": {},
   "outputs": [
    {
     "data": {
      "text/plain": [
       "0.5948001285722357"
      ]
     },
     "execution_count": 322,
     "metadata": {},
     "output_type": "execute_result"
    }
   ],
   "source": [
    "r2score(W_pyt_momentum,X_test_norm,y_test)"
   ]
  },
  {
   "cell_type": "markdown",
   "id": "5eb7f870",
   "metadata": {},
   "source": [
    "## Nesterov Gradient Descent"
   ]
  },
  {
   "cell_type": "code",
   "execution_count": 325,
   "id": "d43bb201",
   "metadata": {},
   "outputs": [],
   "source": [
    "def nesterov_grad(X,Y,beta = 1e-4,alpha = 1e-4,max_iter = 1000):\n",
    "    m = X.shape[0]\n",
    "    X = X.copy()\n",
    "    X['bias'] = np.ones(m)\n",
    "    n = X.shape[1]\n",
    "    W_old = np.zeros((n,1))\n",
    "    W_new = np.ones((n,1))\n",
    "    del_w = W_new - W_old\n",
    "    mse = []\n",
    "    iterations = 0\n",
    "    delw_old = del_w\n",
    "    delw_tilda = del_w\n",
    "    while (iterations<max_iter):\n",
    "        W_old = W_new\n",
    "        delw_old = del_w\n",
    "        delw_tilda = beta*delw_old\n",
    "        W_old = W_old - delw_tilda\n",
    "        del_w = alpha*gradJ(W_old,X,Y)+delw_tilda\n",
    "        W_new = W_old-del_w\n",
    "        #print(W_new)\n",
    "        error = mse_error(W_new,X,Y)\n",
    "        mse.append(error)\n",
    "        if iterations%5000==0:\n",
    "            print('iterations = ',iterations,' mse error = ',mse[-1][0])\n",
    "        #print('del_w^2 = ',np.linalg.norm(del_w)) \n",
    "        iterations+=1\n",
    "    plt.figure(figsize=(12,9))\n",
    "    plt.plot(np.arange(len(mse)),mse,'-')\n",
    "    return W_new\n",
    "    "
   ]
  },
  {
   "cell_type": "code",
   "execution_count": 326,
   "id": "203caac4",
   "metadata": {},
   "outputs": [
    {
     "name": "stdout",
     "output_type": "stream",
     "text": [
      "iterations =  0  mse error =  1500.9872958428073\n",
      "iterations =  5000  mse error =  608.1778007207585\n",
      "iterations =  10000  mse error =  292.15926847306497\n",
      "iterations =  15000  mse error =  179.01994569251627\n",
      "iterations =  20000  mse error =  137.94506191375953\n",
      "iterations =  25000  mse error =  122.68985554641517\n",
      "iterations =  30000  mse error =  116.77462138909111\n",
      "iterations =  35000  mse error =  114.28588445410061\n",
      "iterations =  40000  mse error =  113.08627163149309\n",
      "iterations =  45000  mse error =  112.39564972064659\n"
     ]
    },
    {
     "data": {
      "image/png": "[encoded data removed]",
      "text/plain": [
       "<Figure size 1200x900 with 1 Axes>"
      ]
     },
     "metadata": {},
     "output_type": "display_data"
    }
   ],
   "source": [
    "W_nest = nesterov_grad(X_train_norm,np.array(y_train).reshape(-1,1),beta=1e-2,alpha = 1e-4,max_iter = 50000)"
   ]
  },
  {
   "cell_type": "code",
   "execution_count": 327,
   "id": "d841bdeb",
   "metadata": {},
   "outputs": [
    {
     "data": {
      "text/plain": [
       "0.603051735310854"
      ]
     },
     "execution_count": 327,
     "metadata": {},
     "output_type": "execute_result"
    }
   ],
   "source": [
    "r2score(W_nest,X_train_norm,y_train)"
   ]
  },
  {
   "cell_type": "code",
   "execution_count": 328,
   "id": "7797fc09",
   "metadata": {},
   "outputs": [
    {
     "data": {
      "text/plain": [
       "0.5821898380570756"
      ]
     },
     "execution_count": 328,
     "metadata": {},
     "output_type": "execute_result"
    }
   ],
   "source": [
    "r2score(W_nest,X_test_norm,y_test)"
   ]
  },
  {
   "cell_type": "markdown",
   "id": "5e97503f",
   "metadata": {},
   "source": [
    "With Nesterov Grad we see a slight improvement in r2 score and also MSE loss after same no of iterations , also we can see there is a difference in r2 score with pytorch implementation using tensor when compared to numpy arrays ,  so pytorch maybe is using a much better optimizer "
   ]
  },
  {
   "cell_type": "markdown",
   "id": "99b61701",
   "metadata": {},
   "source": [
    "## Nesterov Gradient Descent using Pytorch"
   ]
  },
  {
   "cell_type": "code",
   "execution_count": 207,
   "id": "d4053141",
   "metadata": {},
   "outputs": [],
   "source": [
    "def nesterov_batch_gradient_descent(X, Y, alpha, max_iterations, beta):\n",
    "    X = X.copy()\n",
    "    X['bias'] = np.ones(X.shape[0])\n",
    "    # Convert dataframes to tensors\n",
    "    X = torch.tensor(X.values, dtype=torch.float32)\n",
    "    Y = torch.tensor(Y, dtype=torch.float32)\n",
    "    \n",
    "    # Initialize weights with random values\n",
    "    w = torch.randn(X.shape[1], requires_grad=True)\n",
    "    \n",
    "    # Define the loss function\n",
    "    criterion = torch.nn.MSELoss()\n",
    "    \n",
    "    # Define the optimizer\n",
    "    optimizer = torch.optim.SGD([w], lr=alpha, momentum=beta , nesterov=True)\n",
    "    \n",
    "    mse = []\n",
    "    for i in range(max_iterations):\n",
    "        # Calculate the prediction\n",
    "        prediction = torch.matmul(X, w)\n",
    "        \n",
    "        # Calculate the loss\n",
    "        loss = criterion(prediction, Y)\n",
    "        \n",
    "        # Clear the gradients\n",
    "        optimizer.zero_grad()\n",
    "        \n",
    "        # Compute the gradients\n",
    "        loss.backward()\n",
    "        \n",
    "        mse.append(loss.item())\n",
    "        \n",
    "        if i%1000==0:\n",
    "            print('iterations = ',i,'mse error = ',loss.item())\n",
    "        \n",
    "        # Update the weights\n",
    "        optimizer.step()\n",
    "    \n",
    "    plt.figure(figsize=(6,6))\n",
    "    plt.plot(np.arange(len(mse)),mse)\n",
    "    \n",
    "    return w.tolist()\n",
    "    "
   ]
  },
  {
   "cell_type": "code",
   "execution_count": 208,
   "id": "ee3f3ed5",
   "metadata": {},
   "outputs": [
    {
     "name": "stdout",
     "output_type": "stream",
     "text": [
      "iterations =  0 mse error =  1624.6295166015625\n",
      "iterations =  1000 mse error =  1113.88623046875\n",
      "iterations =  2000 mse error =  777.3305053710938\n",
      "iterations =  3000 mse error =  555.0656127929688\n",
      "iterations =  4000 mse error =  407.978759765625\n",
      "iterations =  5000 mse error =  310.4522705078125\n",
      "iterations =  6000 mse error =  245.66090393066406\n",
      "iterations =  7000 mse error =  202.53070068359375\n",
      "iterations =  8000 mse error =  173.7568359375\n",
      "iterations =  9000 mse error =  154.51205444335938\n",
      "iterations =  10000 mse error =  141.6017303466797\n",
      "iterations =  11000 mse error =  132.90814208984375\n",
      "iterations =  12000 mse error =  127.02600860595703\n",
      "iterations =  13000 mse error =  123.0212173461914\n",
      "iterations =  14000 mse error =  120.27230834960938\n",
      "iterations =  15000 mse error =  118.36520385742188\n",
      "iterations =  16000 mse error =  117.02392578125\n",
      "iterations =  17000 mse error =  116.06417083740234\n",
      "iterations =  18000 mse error =  115.3625717163086\n",
      "iterations =  19000 mse error =  114.83678436279297\n",
      "iterations =  20000 mse error =  114.43134307861328\n",
      "iterations =  21000 mse error =  114.10909271240234\n",
      "iterations =  22000 mse error =  113.84503173828125\n",
      "iterations =  23000 mse error =  113.62226867675781\n",
      "iterations =  24000 mse error =  113.42927551269531\n",
      "iterations =  25000 mse error =  113.2581558227539\n",
      "iterations =  26000 mse error =  113.10363006591797\n",
      "iterations =  27000 mse error =  112.96188354492188\n",
      "iterations =  28000 mse error =  112.83031463623047\n",
      "iterations =  29000 mse error =  112.70707702636719\n",
      "iterations =  30000 mse error =  112.59093475341797\n",
      "iterations =  31000 mse error =  112.48078918457031\n",
      "iterations =  32000 mse error =  112.37596130371094\n",
      "iterations =  33000 mse error =  112.27571105957031\n",
      "iterations =  34000 mse error =  112.17988586425781\n",
      "iterations =  35000 mse error =  112.08772277832031\n",
      "iterations =  36000 mse error =  111.99922180175781\n",
      "iterations =  37000 mse error =  111.91403198242188\n",
      "iterations =  38000 mse error =  111.83186340332031\n",
      "iterations =  39000 mse error =  111.75251007080078\n",
      "iterations =  40000 mse error =  111.67586517333984\n",
      "iterations =  41000 mse error =  111.60172271728516\n",
      "iterations =  42000 mse error =  111.53005981445312\n",
      "iterations =  43000 mse error =  111.46044158935547\n",
      "iterations =  44000 mse error =  111.39311981201172\n",
      "iterations =  45000 mse error =  111.32758331298828\n",
      "iterations =  46000 mse error =  111.26405334472656\n",
      "iterations =  47000 mse error =  111.20217895507812\n",
      "iterations =  48000 mse error =  111.14208984375\n",
      "iterations =  49000 mse error =  111.08345794677734\n"
     ]
    },
    {
     "data": {
      "image/png": "[encoded data removed]",
      "text/plain": [
       "<Figure size 600x600 with 1 Axes>"
      ]
     },
     "metadata": {},
     "output_type": "display_data"
    }
   ],
   "source": [
    "W_pyt_nest = nesterov_batch_gradient_descent(X_train_norm,y_train,alpha = 1e-4,max_iterations=50000,beta = 1e-2)"
   ]
  },
  {
   "cell_type": "code",
   "execution_count": 209,
   "id": "5bfb82be",
   "metadata": {},
   "outputs": [
    {
     "data": {
      "text/plain": [
       "0.6062370595322248"
      ]
     },
     "execution_count": 209,
     "metadata": {},
     "output_type": "execute_result"
    }
   ],
   "source": [
    "r2score(W_pyt_nest,X_train_norm,y_train)"
   ]
  },
  {
   "cell_type": "code",
   "execution_count": 210,
   "id": "0e0a8b49",
   "metadata": {},
   "outputs": [
    {
     "data": {
      "text/plain": [
       "0.5934048972164938"
      ]
     },
     "execution_count": 210,
     "metadata": {},
     "output_type": "execute_result"
    }
   ],
   "source": [
    "r2score(W_pyt_nest,X_test_norm,y_test)"
   ]
  },
  {
   "cell_type": "markdown",
   "id": "c63ec963",
   "metadata": {},
   "source": [
    "## Conclusion"
   ]
  },
  {
   "cell_type": "markdown",
   "id": "1cefa0aa",
   "metadata": {},
   "source": [
    "## We see in Batch gradient Descent techniques "
   ]
  },
  {
   "cell_type": "markdown",
   "id": "243d6f32",
   "metadata": {},
   "source": [
    "Nesterov > Momentum > Batch Gradient Descent (in terms of MSE loss and R2 score)"
   ]
  },
  {
   "cell_type": "markdown",
   "id": "ee2eee36",
   "metadata": {},
   "source": [
    "## In Mini Batch gradient descent techniques"
   ]
  },
  {
   "cell_type": "markdown",
   "id": "9954d12a",
   "metadata": {},
   "source": [
    "Stochastic > Mini batch (batch size = 50) \\* but the catch is the time taken was lower by mini batch so there is that compromise in time vs optimization"
   ]
  },
  {
   "cell_type": "code",
   "execution_count": null,
   "id": "fffd6926",
   "metadata": {},
   "outputs": [],
   "source": []
  }
 ],
 "metadata": {
  "kernelspec": {
   "display_name": "Python 3 (ipykernel)",
   "language": "python",
   "name": "python3"
  },
  "language_info": {
   "codemirror_mode": {
    "name": "ipython",
    "version": 3
   },
   "file_extension": ".py",
   "mimetype": "text/x-python",
   "name": "python",
   "nbconvert_exporter": "python",
   "pygments_lexer": "ipython3",
   "version": "3.8.15"
  }
 },
 "nbformat": 4,
 "nbformat_minor": 5
}
